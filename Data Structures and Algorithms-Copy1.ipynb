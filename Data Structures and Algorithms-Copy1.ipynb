{
 "cells": [
  {
   "cell_type": "markdown",
   "metadata": {},
   "source": [
    "# BSc Apprenticeship Degree in Digital Technology & Solutions\n",
    "#### Author\n",
    "Zach Molony\n",
    "#### Module Name                  \n",
    "Data Structure & Algorithms\n",
    "#### Objectives\n",
    "- Empirical analysis of sorting algorithms using Big-O notation.\n",
    "- Empirical analysis of search algorithms using Big-O notation.\n",
    "- Design of recursive method for problem solving."
   ]
  },
  {
   "cell_type": "code",
   "execution_count": 1,
   "metadata": {},
   "outputs": [],
   "source": [
    "# Imports\n",
    "%matplotlib inline\n",
    "\n",
    "from random import sample\n",
    "import timeit\n",
    "from functools import partial as wrapper\n",
    "import pandas as pd\n",
    "import numpy as np\n",
    "from matplotlib import pyplot as plt\n",
    "import matplotlib.mlab as mlab\n",
    "import csv"
   ]
  },
  {
   "cell_type": "markdown",
   "metadata": {},
   "source": [
    "## PART I: Empirical Analysis of Sorting Algorithms (50%)\n",
    "### Algorithm code"
   ]
  },
  {
   "cell_type": "code",
   "execution_count": 2,
   "metadata": {},
   "outputs": [],
   "source": [
    "# Bubble sort\n",
    "def bubble(arr):\n",
    "    n = len(arr)\n",
    "    for i in range(n):\n",
    "        for x in range(1, n):\n",
    "            if arr[x] < arr[x-1]:\n",
    "                arr[x], arr[x-1] = arr[x-1], arr[x]\n",
    "    return arr\n",
    "\n",
    "# Insertion sort\n",
    "def insertion(arr):\n",
    "    for i in range(1, len(arr)):\n",
    "        current = arr[i]\n",
    "        while i > 0 and arr[i-1]>current:\n",
    "            arr[i] = arr[i-1]\n",
    "            i = i - 1\n",
    "            arr[i] = current\n",
    "    return arr\n",
    "\n",
    "# Selection sort\n",
    "def selection(arr):  \n",
    "    for i in range(len(arr)): \n",
    "        min_idx = i \n",
    "        for j in range(i + 1, len(arr)): \n",
    "            if arr[min_idx] > arr[j]: \n",
    "                min_idx = j\n",
    "        arr[i], arr[min_idx] = arr[min_idx], arr[i] \n",
    "    return arr\n",
    "\n",
    "# Merge sort\n",
    "def merge(arr):\n",
    "    if len(arr) > 1: \n",
    "        mid = len(arr) // 2\n",
    "        leftArr = arr[:mid]\n",
    "        rightArr = arr[mid:]\n",
    "        merge(leftArr)\n",
    "        merge(rightArr)\n",
    "        i = j = k = 0\n",
    "        while i < len(leftArr) and j < len(rightArr): \n",
    "            if leftArr[i] < rightArr[j]: \n",
    "                arr[k] = leftArr[i] \n",
    "                i += 1\n",
    "            else: \n",
    "                arr[k] = rightArr[j] \n",
    "                j += 1\n",
    "            k += 1\n",
    "        while i < len(leftArr): \n",
    "            arr[k] = leftArr[i] \n",
    "            i += 1\n",
    "            k += 1\n",
    "        while j < len(rightArr): \n",
    "            arr[k] = rightArr[j] \n",
    "            j += 1\n",
    "            k += 1\n",
    "    return arr\n",
    "\n",
    "# Shell sort\n",
    "def shell(arr):\n",
    "    n = len(arr) \n",
    "    gap = n // 2\n",
    "    while gap > 0: \n",
    "        for i in range(gap,n):\n",
    "            temp = arr[i]\n",
    "            j = i \n",
    "            while  j >= gap and arr[j-gap] > temp: \n",
    "                arr[j] = arr[j-gap] \n",
    "                j -= gap \n",
    "            arr[j] = temp \n",
    "        gap //= 2\n",
    "    return arr"
   ]
  },
  {
   "cell_type": "code",
   "execution_count": 3,
   "metadata": {},
   "outputs": [],
   "source": [
    "# Define constants (master object for all timings / list sizes / lists to be generated)\n",
    "master = {}\n",
    "inputSizes = [1000, 5000, 10000, 25000, 50000, 75000, 100000]\n",
    "# Bigger lists for the more efficient algorithms\n",
    "inputSizesBigger = [1000, 5000, 10000, 25000, 50000, 100000, 500000, 1000000, 5000000, 10000000]\n",
    "\n",
    "#Objects to hold actual arrays\n",
    "randomLists = {}\n",
    "randomListsBigger = {}"
   ]
  },
  {
   "cell_type": "code",
   "execution_count": 4,
   "metadata": {
    "scrolled": false
   },
   "outputs": [],
   "source": [
    "# Create lists of random numbers using random.sample\n",
    "for size in inputSizes:\n",
    "    randomLists[str(size)] = sample(range(0, size+1), size)\n",
    "\n",
    "for size in inputSizesBigger:\n",
    "    randomListsBigger[str(size)] = sample(range(0, size+1), size)"
   ]
  },
  {
   "cell_type": "markdown",
   "metadata": {},
   "source": [
    "### Timing function\n",
    "Here I am measuring the timing of the algorithms using the timeit.Timer() function. This measures actual wall time and therefore it must be acknowledged that all measurements have been tested on the same system under the same conditions:\n",
    "- Tested on an Intel(R) Core(TM) i5-4690K CPU OC @ 4.0GHz.\n",
    "\n",
    "This function takes one parameter, which is the number of times the program is run for it to take an average from: ```t.timeit(n)```. Where ```n``` is the amount repetitions averaged. I am running each function 3 times as this will give me an accurate average while not taking a day. 😉\n",
    "\n",
    "I am using the ```'wrapper'``` function to insert the array into the function - this is an issue with the timer function.\n",
    "\n",
    "**Some notes:** Sadly, I couldn't work out how to create a single function which could run the below code on all the functions, this was due to the timer I chose not allowing multiple functions with parameters to be passed in. I decided to stay with this implementation as it still is accurate and effective, although the below section of the code needs to be repeated for each algorithm.\n",
    "\n",
    "Alternately, this could have been measured in operations, adding one to a counter each time a comparison was made. I unfortunately did not have time to implement this additionally however I may add a proof of concept at the end of this section. "
   ]
  },
  {
   "cell_type": "code",
   "execution_count": 5,
   "metadata": {},
   "outputs": [
    {
     "ename": "KeyboardInterrupt",
     "evalue": "",
     "output_type": "error",
     "traceback": [
      "\u001b[1;31m---------------------------------------------------------------------------\u001b[0m",
      "\u001b[1;31mKeyboardInterrupt\u001b[0m                         Traceback (most recent call last)",
      "\u001b[1;32m<ipython-input-5-fa567ee775f4>\u001b[0m in \u001b[0;36m<module>\u001b[1;34m\u001b[0m\n\u001b[0;32m      5\u001b[0m \u001b[1;32mfor\u001b[0m \u001b[0msize\u001b[0m \u001b[1;32min\u001b[0m \u001b[0mrandomLists\u001b[0m\u001b[1;33m:\u001b[0m\u001b[1;33m\u001b[0m\u001b[1;33m\u001b[0m\u001b[0m\n\u001b[0;32m      6\u001b[0m     \u001b[0mt\u001b[0m \u001b[1;33m=\u001b[0m \u001b[0mtimeit\u001b[0m\u001b[1;33m.\u001b[0m\u001b[0mTimer\u001b[0m\u001b[1;33m(\u001b[0m\u001b[0mwrapper\u001b[0m\u001b[1;33m(\u001b[0m\u001b[0mbubble\u001b[0m\u001b[1;33m,\u001b[0m \u001b[0mrandomLists\u001b[0m\u001b[1;33m[\u001b[0m\u001b[0msize\u001b[0m\u001b[1;33m]\u001b[0m\u001b[1;33m)\u001b[0m\u001b[1;33m)\u001b[0m\u001b[1;33m\u001b[0m\u001b[1;33m\u001b[0m\u001b[0m\n\u001b[1;32m----> 7\u001b[1;33m     \u001b[0mtimes\u001b[0m\u001b[1;33m[\u001b[0m\u001b[0msize\u001b[0m\u001b[1;33m]\u001b[0m \u001b[1;33m=\u001b[0m \u001b[0mround\u001b[0m\u001b[1;33m(\u001b[0m\u001b[0mt\u001b[0m\u001b[1;33m.\u001b[0m\u001b[0mtimeit\u001b[0m\u001b[1;33m(\u001b[0m\u001b[1;36m3\u001b[0m\u001b[1;33m)\u001b[0m\u001b[1;33m,\u001b[0m \u001b[1;36m6\u001b[0m\u001b[1;33m)\u001b[0m\u001b[1;33m\u001b[0m\u001b[1;33m\u001b[0m\u001b[0m\n\u001b[0m\u001b[0;32m      8\u001b[0m \u001b[1;33m\u001b[0m\u001b[0m\n\u001b[0;32m      9\u001b[0m \u001b[1;31m# Add to master object\u001b[0m\u001b[1;33m\u001b[0m\u001b[1;33m\u001b[0m\u001b[1;33m\u001b[0m\u001b[0m\n",
      "\u001b[1;32m~\\anaconda3\\lib\\timeit.py\u001b[0m in \u001b[0;36mtimeit\u001b[1;34m(self, number)\u001b[0m\n\u001b[0;32m    174\u001b[0m         \u001b[0mgc\u001b[0m\u001b[1;33m.\u001b[0m\u001b[0mdisable\u001b[0m\u001b[1;33m(\u001b[0m\u001b[1;33m)\u001b[0m\u001b[1;33m\u001b[0m\u001b[1;33m\u001b[0m\u001b[0m\n\u001b[0;32m    175\u001b[0m         \u001b[1;32mtry\u001b[0m\u001b[1;33m:\u001b[0m\u001b[1;33m\u001b[0m\u001b[1;33m\u001b[0m\u001b[0m\n\u001b[1;32m--> 176\u001b[1;33m             \u001b[0mtiming\u001b[0m \u001b[1;33m=\u001b[0m \u001b[0mself\u001b[0m\u001b[1;33m.\u001b[0m\u001b[0minner\u001b[0m\u001b[1;33m(\u001b[0m\u001b[0mit\u001b[0m\u001b[1;33m,\u001b[0m \u001b[0mself\u001b[0m\u001b[1;33m.\u001b[0m\u001b[0mtimer\u001b[0m\u001b[1;33m)\u001b[0m\u001b[1;33m\u001b[0m\u001b[1;33m\u001b[0m\u001b[0m\n\u001b[0m\u001b[0;32m    177\u001b[0m         \u001b[1;32mfinally\u001b[0m\u001b[1;33m:\u001b[0m\u001b[1;33m\u001b[0m\u001b[1;33m\u001b[0m\u001b[0m\n\u001b[0;32m    178\u001b[0m             \u001b[1;32mif\u001b[0m \u001b[0mgcold\u001b[0m\u001b[1;33m:\u001b[0m\u001b[1;33m\u001b[0m\u001b[1;33m\u001b[0m\u001b[0m\n",
      "\u001b[1;32m~\\anaconda3\\lib\\timeit.py\u001b[0m in \u001b[0;36minner\u001b[1;34m(_it, _timer, _stmt)\u001b[0m\n",
      "\u001b[1;32m<ipython-input-2-00c00d366e0c>\u001b[0m in \u001b[0;36mbubble\u001b[1;34m(arr)\u001b[0m\n\u001b[0;32m      5\u001b[0m         \u001b[1;32mfor\u001b[0m \u001b[0mx\u001b[0m \u001b[1;32min\u001b[0m \u001b[0mrange\u001b[0m\u001b[1;33m(\u001b[0m\u001b[1;36m1\u001b[0m\u001b[1;33m,\u001b[0m \u001b[0mn\u001b[0m\u001b[1;33m)\u001b[0m\u001b[1;33m:\u001b[0m\u001b[1;33m\u001b[0m\u001b[1;33m\u001b[0m\u001b[0m\n\u001b[0;32m      6\u001b[0m             \u001b[1;32mif\u001b[0m \u001b[0marr\u001b[0m\u001b[1;33m[\u001b[0m\u001b[0mx\u001b[0m\u001b[1;33m]\u001b[0m \u001b[1;33m<\u001b[0m \u001b[0marr\u001b[0m\u001b[1;33m[\u001b[0m\u001b[0mx\u001b[0m\u001b[1;33m-\u001b[0m\u001b[1;36m1\u001b[0m\u001b[1;33m]\u001b[0m\u001b[1;33m:\u001b[0m\u001b[1;33m\u001b[0m\u001b[1;33m\u001b[0m\u001b[0m\n\u001b[1;32m----> 7\u001b[1;33m                 \u001b[0marr\u001b[0m\u001b[1;33m[\u001b[0m\u001b[0mx\u001b[0m\u001b[1;33m]\u001b[0m\u001b[1;33m,\u001b[0m \u001b[0marr\u001b[0m\u001b[1;33m[\u001b[0m\u001b[0mx\u001b[0m\u001b[1;33m-\u001b[0m\u001b[1;36m1\u001b[0m\u001b[1;33m]\u001b[0m \u001b[1;33m=\u001b[0m \u001b[0marr\u001b[0m\u001b[1;33m[\u001b[0m\u001b[0mx\u001b[0m\u001b[1;33m-\u001b[0m\u001b[1;36m1\u001b[0m\u001b[1;33m]\u001b[0m\u001b[1;33m,\u001b[0m \u001b[0marr\u001b[0m\u001b[1;33m[\u001b[0m\u001b[0mx\u001b[0m\u001b[1;33m]\u001b[0m\u001b[1;33m\u001b[0m\u001b[1;33m\u001b[0m\u001b[0m\n\u001b[0m\u001b[0;32m      8\u001b[0m     \u001b[1;32mreturn\u001b[0m \u001b[0marr\u001b[0m\u001b[1;33m\u001b[0m\u001b[1;33m\u001b[0m\u001b[0m\n\u001b[0;32m      9\u001b[0m \u001b[1;33m\u001b[0m\u001b[0m\n",
      "\u001b[1;31mKeyboardInterrupt\u001b[0m: "
     ]
    }
   ],
   "source": [
    "# Init object to record times\n",
    "times = {}\n",
    "\n",
    "# For every size, create a timer \n",
    "for size in randomLists:\n",
    "    t = timeit.Timer(wrapper(bubble, randomLists[size]))\n",
    "    times[size] = round(t.timeit(3), 6)\n",
    "    \n",
    "# Add to master object\n",
    "master['bubble'] = times"
   ]
  },
  {
   "cell_type": "code",
   "execution_count": null,
   "metadata": {},
   "outputs": [],
   "source": [
    "times = {}\n",
    "for size in randomLists:\n",
    "    t = timeit.Timer(wrapper(selection, randomLists[size]))\n",
    "    times[size] = round(t.timeit(3), 6)\n",
    "master['selection'] = times"
   ]
  },
  {
   "cell_type": "code",
   "execution_count": 5,
   "metadata": {},
   "outputs": [
    {
     "name": "stdout",
     "output_type": "stream",
     "text": [
      "1000\n",
      "5000\n",
      "10000\n",
      "25000\n",
      "50000\n",
      "75000\n",
      "100000\n"
     ]
    }
   ],
   "source": [
    "times = {}\n",
    "for size in randomLists:\n",
    "    print(len(randomLists[size]))\n",
    "    t = timeit.Timer(wrapper(insertion, randomLists[size]))\n",
    "    times[size] = round(t.timeit(1), 6)\n",
    "master['insertion'] = times"
   ]
  },
  {
   "cell_type": "code",
   "execution_count": null,
   "metadata": {},
   "outputs": [],
   "source": [
    "times = {}\n",
    "for size in randomListsBigger:\n",
    "    t = timeit.Timer(wrapper(merge, randomListsBigger[size]))\n",
    "    times[size] = round(t.timeit(3), 6)\n",
    "master['merge'] = times"
   ]
  },
  {
   "cell_type": "code",
   "execution_count": null,
   "metadata": {},
   "outputs": [],
   "source": [
    "times = {}\n",
    "for size in randomListsBigger:\n",
    "    t = timeit.Timer(wrapper(shell, randomListsBigger[size]))\n",
    "    times[size] = round(t.timeit(3), 6)\n",
    "master['shell'] = times"
   ]
  },
  {
   "cell_type": "code",
   "execution_count": 10,
   "metadata": {},
   "outputs": [],
   "source": [
    "times = {}\n",
    "t = timeit.Timer(wrapper(shell, randomListsBigger['10000000']))\n",
    "times[size] = round(t.timeit(3), 6)\n",
    "master['shell'] = times"
   ]
  },
  {
   "cell_type": "markdown",
   "metadata": {},
   "source": [
    "### Write to CSV file\n",
    "Create a backup of the timings external the the projects. All variables in this notebook are volatile so if I return after closing it I will need to rerun the lengthy timing functions."
   ]
  },
  {
   "cell_type": "code",
   "execution_count": 11,
   "metadata": {},
   "outputs": [],
   "source": [
    "# Write to CSV\n",
    "\n",
    "with open('timingsshell.csv', 'w', newline='') as file:\n",
    "    writer = csv.writer(file)\n",
    "    for obj in master:\n",
    "        writer.writerow([obj] + [time for time in master[obj].values()])"
   ]
  },
  {
   "cell_type": "markdown",
   "metadata": {},
   "source": [
    "# Analysis\n",
    "Now you have seen how the measurements have been generated and stored, in this section I will begin my analysis on the time complexity of the sorting algorithms. Below I am reading the times from the file I have previously made for the reasons explained previously."
   ]
  },
  {
   "cell_type": "code",
   "execution_count": null,
   "metadata": {},
   "outputs": [],
   "source": [
    "readMaster = {} #create a new, constant master as the variables in this notebook are volatile \n",
    "with open('timings.csv') as timings:\n",
    "    readCSV = csv.reader(timings, delimiter=',')\n",
    "    for row in readCSV:\n",
    "        readMaster[row[0]] = row[1:]"
   ]
  },
  {
   "cell_type": "markdown",
   "metadata": {},
   "source": [
    "## Bubble Sort\n",
    "Bubble sort works by iterating through a list of numbers, and then for each number, comparing it with subsequent numbers until it is in the correct place. Clearly as each number in the list is compared with each other number in the list, the time complexity will be $O(n^{2})$.\n",
    "\n",
    "Let us manually calculate the time complexity in a line by line analysis:"
   ]
  },
  {
   "cell_type": "code",
   "execution_count": null,
   "metadata": {},
   "outputs": [],
   "source": [
    "def bubble(arr):                                      # Operations | Subtotal | Total\n",
    "    n = len(arr)                                      # 1 + 1       = 1  \n",
    "    for i in range(n):                                # n + 1 + 1   = n\n",
    "        for x in range(1, n):                         # n + 1 + 1   = n  \n",
    "            if arr[x] < arr[x-1]:                     # 1 + 1       = 1\n",
    "                arr[x], arr[x-1] = arr[x-1], arr[x]   # 1 + 1 + 1   = 1\n",
    "                                                      #----------------------------\n",
    "                                                      # Total       = n * n    = n^2"
   ]
  },
  {
   "cell_type": "markdown",
   "metadata": {},
   "source": [
    "This implementation of bubble sort has a complexity of $О(n^{2})$, where n is the number of items being sorted. This is the worst class of time complexity out of the algorithms in this report. The expected time complexity should be around $O(n log n)$, furthermore, of the other $О(n^{2})$ sorting algorithms bubble is by far the slowest, as we can see from the graph below, illustrating extremely high operation time counts."
   ]
  },
  {
   "cell_type": "code",
   "execution_count": null,
   "metadata": {
    "scrolled": true
   },
   "outputs": [],
   "source": [
    "x = inputSizes\n",
    "bub = [float(t) for t in readMaster['bubble']]\n",
    "sel = [float(t) for t in readMaster['selection']]\n",
    "ins = [float(t) for t in readMaster['insertion']][:-3]\n",
    "\n",
    "plt.plot(x, bub, color='red', linestyle='solid', linewidth = 1, marker='o', markersize=3) \n",
    "plt.plot(x, sel, color='blue', linestyle='solid', linewidth = 1, marker='o', markersize=3) \n",
    "plt.plot(x, ins, color='green', linestyle='solid', linewidth = 1, marker='o', markersize=3) \n",
    "plt.xlabel('Array Size') \n",
    "plt.ylabel('Seconds') \n",
    "plt.title('O(n^2) Algorithms')\n",
    "plt.show() "
   ]
  },
  {
   "cell_type": "code",
   "execution_count": null,
   "metadata": {},
   "outputs": [],
   "source": [
    "x = inputSizes\n",
    "y = [float(t) for t in readMaster['bubble']]\n",
    "\n",
    "# plotting the points  \n",
    "plt.plot(x, y, color='green', linestyle='solid', linewidth = 1, marker='o', markerfacecolor='blue', markersize=4) \n",
    "\n",
    "# naming the x axis \n",
    "plt.xlabel('Array Size') \n",
    "# naming the y axis \n",
    "plt.ylabel('Seconds') \n",
    "  \n",
    "# giving a title to my graph \n",
    "plt.title('Bubble sort') \n",
    "  \n",
    "# function to show the plot \n",
    "plt.show() "
   ]
  },
  {
   "cell_type": "markdown",
   "metadata": {},
   "source": [
    "### Improvements?\n",
    "\n",
    "We can clearly see that bubble sort struggles with large data sets, so perhaps we can optimise this somehow. See the below implementation. This iteration includes a flag, which improves the performance slightly: for an already sorted list, the array is still $O(n^{2})$ dispite no swaps being made. With this fix, the performance is now $O(n)$ in the best case Scenario, as the array will complete one iteration of the inner loop and break."
   ]
  },
  {
   "cell_type": "code",
   "execution_count": null,
   "metadata": {},
   "outputs": [],
   "source": [
    "# Bubble sort\n",
    "def bubble(arr): \n",
    "    n = len(arr) \n",
    "    # iterate through the the array\n",
    "    for i in range(n): \n",
    "        swapped = False # create a flag to check if a swap has occurred\n",
    "        for j in range(0, n-i-1): # final i elements will already be in place so no need to check them\n",
    "            # perform a swap if the elements are out of order\n",
    "            if arr[j] > arr[j+1]: \n",
    "                arr[j], arr[j+1] = arr[j+1], arr[j] \n",
    "                swapped = True\n",
    "        if swapped == False: # there is no need to keep iterating as the array is in order\n",
    "            break\n",
    "    return arr"
   ]
  },
  {
   "cell_type": "markdown",
   "metadata": {},
   "source": [
    "In conclusion, this modification improves the best case time to $O(n)$, and slightly improves the runtime of the overall algorithm and thereby the average case, although still remains at $O(n^{2})$. This in some ways is better than much more complex algorithms as they can sometimes be slower for a fully sorted list. Still though, even with this improvement, another $O(n^{2})$ algorithm such as insertion sort is far superior as it shares this best case, it is still much faster in it's average time, as depicted by the graph previously mentioned."
   ]
  },
  {
   "cell_type": "markdown",
   "metadata": {},
   "source": [
    "## Selection Sort\n",
    "Selection sort is another extremely simple sorting algorithm which runs two  "
   ]
  },
  {
   "cell_type": "code",
   "execution_count": null,
   "metadata": {
    "scrolled": true
   },
   "outputs": [],
   "source": [
    "x = inputSizes\n",
    "y = [float(t) for t in readMaster['selection']]\n",
    "\n",
    "plt.plot(x, y, color='green', linestyle='solid', linewidth = 1, marker='o', markerfacecolor='blue', markersize=4) \n",
    "plt.xlabel('Array Size')\n",
    "plt.ylabel('Seconds') \n",
    "plt.title('Selection sort')\n",
    "plt.show() "
   ]
  },
  {
   "cell_type": "markdown",
   "metadata": {},
   "source": [
    "## Insertion Sort"
   ]
  },
  {
   "cell_type": "code",
   "execution_count": null,
   "metadata": {},
   "outputs": [],
   "source": [
    "x = np.array(inputSizesBigger)\n",
    "y = np.array([float(t) for t in master['insertion']])\n",
    "\n",
    "plt.plot(x, y, color='green', linestyle='solid', linewidth = 1, marker='o', markerfacecolor='blue', markersize=4) \n",
    "plt.xscale('log')\n",
    "plt.xlabel('Array Size')\n",
    "plt.ylabel('Seconds') \n",
    "plt.title('Insertion sort')\n",
    "plt.show() "
   ]
  },
  {
   "cell_type": "markdown",
   "metadata": {},
   "source": [
    "## Merge Sort"
   ]
  },
  {
   "cell_type": "code",
   "execution_count": null,
   "metadata": {},
   "outputs": [],
   "source": [
    "x = inputSizesBigger\n",
    "y = [float(t) for t in readMaster['merge']]\n",
    "\n",
    "plt.plot(x, y, color='green', linestyle='solid', linewidth = 1, marker='o', markerfacecolor='blue', markersize=4) \n",
    "plt.xscale('log')\n",
    "#plt.yscale('log')\n",
    "plt.xlabel('Array Size')\n",
    "plt.ylabel('Seconds') \n",
    "plt.title('Merge sort')\n",
    "plt.show() "
   ]
  },
  {
   "cell_type": "markdown",
   "metadata": {},
   "source": [
    "## Shell Sort"
   ]
  },
  {
   "cell_type": "code",
   "execution_count": null,
   "metadata": {},
   "outputs": [],
   "source": [
    "x = inputSizesBigger\n",
    "y = [float(t) for t in master['shell']]\n",
    "\n",
    "plt.plot(x, y, color='green', linestyle='solid', linewidth = 1, marker='o', markerfacecolor='blue', markersize=4) \n",
    "plt.xscale('log')\n",
    "plt.xlabel('Array Size')\n",
    "plt.ylabel('Seconds') \n",
    "plt.title('Shell sort')\n",
    "plt.show() "
   ]
  },
  {
   "cell_type": "code",
   "execution_count": null,
   "metadata": {},
   "outputs": [],
   "source": []
  },
  {
   "cell_type": "code",
   "execution_count": null,
   "metadata": {},
   "outputs": [],
   "source": []
  },
  {
   "cell_type": "code",
   "execution_count": null,
   "metadata": {},
   "outputs": [],
   "source": []
  }
 ],
 "metadata": {
  "kernelspec": {
   "display_name": "Python 3",
   "language": "python",
   "name": "python3"
  },
  "language_info": {
   "codemirror_mode": {
    "name": "ipython",
    "version": 3
   },
   "file_extension": ".py",
   "mimetype": "text/x-python",
   "name": "python",
   "nbconvert_exporter": "python",
   "pygments_lexer": "ipython3",
   "version": "3.7.6"
  }
 },
 "nbformat": 4,
 "nbformat_minor": 2
}
