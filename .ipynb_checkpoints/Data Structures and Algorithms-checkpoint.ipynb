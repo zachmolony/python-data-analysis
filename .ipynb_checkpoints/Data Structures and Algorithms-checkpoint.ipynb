{
 "cells": [
  {
   "cell_type": "markdown",
   "metadata": {},
   "source": [
    "# BSc Apprenticeship Degree in Digital Technology & Solutions\n",
    "#### Author\n",
    "Zach Molony\n",
    "#### Module Name                  \n",
    "Data Structure & Algorithms\n",
    "#### Objectives\n",
    "- Empirical analysis of sorting algorithms using Big-O notation.\n",
    "- Empirical analysis of search algorithms using Big-O notation.\n",
    "- Design of recursive method for problem solving."
   ]
  },
  {
   "cell_type": "code",
   "execution_count": 23,
   "metadata": {},
   "outputs": [],
   "source": [
    "# Imports\n",
    "%matplotlib inline\n",
    "\n",
    "from random import sample\n",
    "import timeit, functools\n",
    "import pandas as pd\n",
    "import numpy as np\n",
    "from matplotlib import pyplot as plt\n",
    "import matplotlib.mlab as mlab"
   ]
  },
  {
   "cell_type": "markdown",
   "metadata": {},
   "source": [
    "## PART I: Empirical Analysis of Sorting Algorithms (50%)"
   ]
  },
  {
   "cell_type": "code",
   "execution_count": 21,
   "metadata": {},
   "outputs": [],
   "source": [
    "# Bubble sort\n",
    "\n",
    "def bubble(arr):\n",
    "    n = len(arr)\n",
    "    for i in range(n):\n",
    "        for x in range(1, n):\n",
    "            if arr[x] < arr[x-1]:\n",
    "                arr[x], arr[x-1] = arr[x-1], arr[x]\n",
    "    return arr\n",
    "\n",
    "# Insertion sort\n",
    "\n",
    "def insertion(arr):\n",
    "    \n",
    "    return arr\n",
    "\n",
    "# Selection sort\n",
    "\n",
    "def selection(arr):\n",
    "    \n",
    "    return arr\n",
    "\n",
    "# Merge sort\n",
    "\n",
    "def merge(arr):\n",
    "    \n",
    "    return arr\n",
    "\n",
    "# Shell sort\n",
    "\n",
    "def shell(arr):\n",
    "    \n",
    "    return arr\n"
   ]
  },
  {
   "cell_type": "code",
   "execution_count": 22,
   "metadata": {},
   "outputs": [
    {
     "name": "stdout",
     "output_type": "stream",
     "text": [
      "1000\n",
      "5000\n",
      "10000\n",
      "{'1000': 0.310853, '5000': 9.401094, '10000': 34.31016}\n"
     ]
    }
   ],
   "source": [
    "inputSizes = [1000, 5000, 10000]#, 50000, 100000, 500000]\n",
    "\n",
    "randomLists = {}\n",
    "times = {}\n",
    "\n",
    "for size in inputSizes:\n",
    "    randomLists[str(size)] = sample(range(0, size+1), size)\n",
    "    \n",
    "for size in randomLists:\n",
    "    print(len(randomLists[size]))\n",
    "    t = timeit.Timer(functools.partial(bubble, randomLists[size]))\n",
    "    times[size] = round(t.timeit(1), 6)\n",
    "    \n",
    "print(times)\n",
    "#t = timeit.Timer(functools.partial(bubble, arr))"
   ]
  },
  {
   "cell_type": "code",
   "execution_count": 29,
   "metadata": {},
   "outputs": [
    {
     "data": {
      "text/plain": [
       "[0.310853, 9.401094, 34.31016]"
      ]
     },
     "execution_count": 29,
     "metadata": {},
     "output_type": "execute_result"
    }
   ],
   "source": [
    "x = [s for s in times]\n",
    "y = [t for t in times.values()]"
   ]
  },
  {
   "cell_type": "code",
   "execution_count": 44,
   "metadata": {},
   "outputs": [
    {
     "data": {
      "image/png": "[encoded data removed]",
      "text/plain": [
       "<Figure size 432x288 with 1 Axes>"
      ]
     },
     "metadata": {
      "needs_background": "light"
     },
     "output_type": "display_data"
    }
   ],
   "source": [
    " \n",
    "# plotting the points  \n",
    "plt.plot(x, y, color='green', linestyle='dashed', linewidth = 3, \n",
    "         marker='o', markerfacecolor='blue', markersize=12) \n",
    "  \n",
    "# setting x and y axis range \n",
    "plt.ylim(0, 35) \n",
    "plt.xlim(-1, 3) \n",
    "  \n",
    "# naming the x axis \n",
    "plt.xlabel('x - axis') \n",
    "# naming the y axis \n",
    "plt.ylabel('y - axis') \n",
    "  \n",
    "# giving a title to my graph \n",
    "plt.title('') \n",
    "  \n",
    "# function to show the plot \n",
    "plt.show() "
   ]
  },
  {
   "cell_type": "code",
   "execution_count": null,
   "metadata": {},
   "outputs": [],
   "source": []
  }
 ],
 "metadata": {
  "kernelspec": {
   "display_name": "Python 3",
   "language": "python",
   "name": "python3"
  },
  "language_info": {
   "codemirror_mode": {
    "name": "ipython",
    "version": 3
   },
   "file_extension": ".py",
   "mimetype": "text/x-python",
   "name": "python",
   "nbconvert_exporter": "python",
   "pygments_lexer": "ipython3",
   "version": "3.7.3"
  }
 },
 "nbformat": 4,
 "nbformat_minor": 2
}
